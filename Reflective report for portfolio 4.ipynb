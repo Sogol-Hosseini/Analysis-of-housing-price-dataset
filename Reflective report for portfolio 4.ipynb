{
 "cells": [
  {
   "cell_type": "markdown",
   "id": "f2032231",
   "metadata": {},
   "source": [
    "# Reflective report on portfolio 4"
   ]
  },
  {
   "cell_type": "markdown",
   "id": "ae107582",
   "metadata": {},
   "source": [
    "Name: **Sogol Hosseini**\n",
    "\n",
    "Student ID: **47704004**"
   ]
  },
  {
   "cell_type": "markdown",
   "id": "12ffb731",
   "metadata": {},
   "source": [
    "In this reflective report, the following topics will be discussed:\n",
    "1. The **Process of solving problem** and **learning** to use notebook.\n",
    "2. How have I **progressed** from the start of the unit, what am I **interested** in doing with this in the future?\n",
    "3. Why I **chose the dataset** I have used for my portfolio.\n",
    "4. How do I **identify the problem** I targeted to solve in my portfolio?\n",
    "5. Reason to **chose my machine models** in my portfolio."
   ]
  },
  {
   "cell_type": "markdown",
   "id": "467501d9",
   "metadata": {},
   "source": [
    "## The process of solving problem and learning to use notebook"
   ]
  },
  {
   "cell_type": "markdown",
   "id": "eb70e852",
   "metadata": {},
   "source": [
    "Before I started studying this unit, I had experience in using Jupiter notebook and python coding language. Moreover, I got a certificate in python programming from tehran institute of technology and I was familiar with all the contects in the first few weeks. So, the required apps like anaconda and github were already installed on my computer. Also, I had done projects in Guthub before, when I was doing diploma in Macquarie college and it wasn't anything new to struggle for me. However, the process of problem solving was something different in this unit as the problem was different. In this unit, I learned about prediction data by training different models."
   ]
  },
  {
   "cell_type": "markdown",
   "id": "93e1c975",
   "metadata": {},
   "source": [
    "## How have I progressed from the start of the unit, what am I interested in doing with this in the future?"
   ]
  },
  {
   "cell_type": "markdown",
   "id": "19a426dc",
   "metadata": {},
   "source": [
    "As I said before, the content of first few weeks wasn't new for me. But from the forth week I started learning about predictive modelling like linear and logistic regression models which was very interesting for me. Usually the first few weeks of learning a new topic, there is confusion and evetything is on slow pace. However, after attending in tutorial classes and practising at home for the portfolios, I could feel the progress in my problem solving and coding. At first everything is a bit hard but after a while everything gets easier and easier. For example the first portfolio was the hardest portfolio for me and I was very confused about what I'm doing and I got the least mark in compare to other portfolios. It is funny because the first portfolio had the least content and was very basic. Honestly, as I was doing portfolio 4, I was confident and there was not much confusion or struggle. "
   ]
  },
  {
   "cell_type": "markdown",
   "id": "49a8ab30",
   "metadata": {},
   "source": [
    "## Why I chose the dataset I have used for my portfolio"
   ]
  },
  {
   "cell_type": "markdown",
   "id": "0f59d1b4",
   "metadata": {},
   "source": [
    "At first I wasn't sure what dataset I am looking for. I was scrolling in kaggle and I didn't know which one to choose. Then, I finally chose a dataset named 'engineers salaries in 2024' and started working on it but I realized there is no enough information and column about the enginers to predict their salaries and the main task of the portfolio is training models and predicting. So, I went and look for another dataset which meet my needs. Then, I found the one which I worked on named 'Housing price'. It had various numerical data and was proper for what I wanted to do with it. It was mostly consist of numerical data like the living area size in square feet, number of bedrooms and etc so, I used them to train a linear logistic model and a KNN model to predict the prices of houses in that dataset."
   ]
  },
  {
   "cell_type": "markdown",
   "id": "395ac19a",
   "metadata": {},
   "source": [
    "## How do I identify the problem I targeted to solve in my portfolio?"
   ]
  },
  {
   "cell_type": "markdown",
   "id": "f56598ef",
   "metadata": {},
   "source": [
    "The main problem I identified in my portfolio, was to predict house prices using the chosen dataset named \"House price\". I predict the price of houses based on my datas in my dataset uncluding details the number of bedrooms, bathrooms, living area size, etc. Morover, I trained  my machine models and used them to predict my problem. Also, I had two models to try and find more accurate one and go with that one. The goal was to train models that can accurately predict the prices of the houses. It's like teaching the computer to understand what makes a house expensive or cheap. This helps anyone quickly know a house’s price without guessing. It’s pretty handy for people buying or selling homes."
   ]
  },
  {
   "cell_type": "markdown",
   "id": "75a65182",
   "metadata": {},
   "source": [
    "## Reason to chose my machine models in my portfolio."
   ]
  },
  {
   "cell_type": "markdown",
   "id": "aadb4b57",
   "metadata": {},
   "source": [
    "I picked a couple of cool tools, like Linear Regression and K-Nearest Neighbors (KNN), to guess house prices. Linear Regression is like trying to draw a line through points on a graph to see the trend—super useful to figure out how things like house size or rooms affect the price. KNN is like asking neighbors what they think a house should cost based on similar ones they know. It’s all about getting the best guesses by using what the computer learns from lots of house data. These tools help make really smart guesses about prices, making them super reliable and handy for anyone wanting to buy or sell a house."
   ]
  }
 ],
 "metadata": {
  "kernelspec": {
   "display_name": "Python 3 (ipykernel)",
   "language": "python",
   "name": "python3"
  },
  "language_info": {
   "codemirror_mode": {
    "name": "ipython",
    "version": 3
   },
   "file_extension": ".py",
   "mimetype": "text/x-python",
   "name": "python",
   "nbconvert_exporter": "python",
   "pygments_lexer": "ipython3",
   "version": "3.9.13"
  }
 },
 "nbformat": 4,
 "nbformat_minor": 5
}
